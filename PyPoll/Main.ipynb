{
 "cells": [
  {
   "cell_type": "code",
   "execution_count": 74,
   "id": "f4a0eb49-cc1b-494f-a363-20e064172460",
   "metadata": {},
   "outputs": [],
   "source": [
    "#Pypoll - calculating the winner of an election\n",
    "import csv\n",
    "import os"
   ]
  },
  {
   "cell_type": "code",
   "execution_count": 59,
   "id": "0f761078-c6b8-432a-82fa-e237d6b5a048",
   "metadata": {},
   "outputs": [],
   "source": [
    "#Loading the files \n",
    "source_file = os.path.join('Resources', 'election_data.csv')\n",
    "results_file = os.path.join('Analysis', 'analysis.txt')"
   ]
  },
  {
   "cell_type": "code",
   "execution_count": 61,
   "id": "46ca314f-a173-45bb-a5c7-4c03c1d74b37",
   "metadata": {},
   "outputs": [],
   "source": [
    "#Total vote count\n",
    "total_votes = 0"
   ]
  },
  {
   "cell_type": "code",
   "execution_count": 63,
   "id": "bed385a5-c070-4b38-ab60-6143aaea3f10",
   "metadata": {},
   "outputs": [],
   "source": [
    "#Voting options\n",
    "candidate_options = []\n",
    "candidate_votes = {}"
   ]
  },
  {
   "cell_type": "code",
   "execution_count": 65,
   "id": "106052d5-a24d-46da-9f23-fbe14778edfc",
   "metadata": {},
   "outputs": [],
   "source": [
    "#Winning candidate and winning count tracker\n",
    "winning_candidate = ''\n",
    "winning_count = 0"
   ]
  },
  {
   "cell_type": "code",
   "execution_count": 67,
   "id": "039fa138-aa18-4f81-a075-6f088c90e925",
   "metadata": {},
   "outputs": [],
   "source": [
    "#Reading the csv file and creating a list of dictionaires\n",
    "with open(source_file, 'r') as source_data :\n",
    "    reader = csv.reader(source_data)\n",
    "    #the header\n",
    "    header =next(reader)\n",
    "   \n",
    "    #iterate through the dataset\n",
    "    for row in reader:\n",
    "      #  print('. ', end='')\n",
    "        total_votes += 1\n",
    "        #extract candidate \n",
    "        candidate_name = row[2]\n",
    "        #adding candidates that are not in the list\n",
    "        if candidate_name not in candidate_options:\n",
    "            candidate_options.append(candidate_name)\n",
    "            candidate_votes[candidate_name]=0\n",
    "        candidate_votes[candidate_name] = candidate_votes[candidate_name] + 1"
   ]
  },
  {
   "cell_type": "code",
   "execution_count": 68,
   "id": "80f3ab6f-6e84-491b-84fa-83b6a50cb68d",
   "metadata": {},
   "outputs": [
    {
     "name": "stdout",
     "output_type": "stream",
     "text": [
      "\n",
      "Election Results\n",
      "--------------------------\n",
      "Total Votes: 369711\n",
      "----------------------------\n",
      "Charles Casper Stockham:  23.049% (85213)\n",
      "Diana DeGette:  73.812% (272892)\n",
      "Raymon Anthony Doane:  3.139% (11606)\n",
      "*************************************\n",
      "Winner: Diana DeGette\n",
      "*************************************\n",
      "\n"
     ]
    }
   ],
   "source": [
    "# Print the results to terminal and file\n",
    "with open(results_file, 'w') as txt_file:\n",
    "    #the actual results\n",
    "    election_results = (\n",
    "        f'\\nElection Results\\n'\n",
    "        f'--------------------------\\n'\n",
    "        f'Total Votes: {total_votes}\\n'\n",
    "        f'----------------------------\\n')\n",
    "    #To terminal\n",
    "    print(election_results, end='')\n",
    "    #To file\n",
    "    txt_file.write(election_results)\n",
    "    #Calculating the winner\n",
    "    for candidate in candidate_votes:\n",
    "        votes = candidate_votes.get(candidate)\n",
    "        vote_percentage  =float(votes)/float(total_votes)*100\n",
    "        #choosing the winning vote count and the candidate\n",
    "        if (votes>winning_count):\n",
    "            winning_count = votes\n",
    "            winning_candidate = candidate\n",
    "        #Print each candidate vote count and % to terminal\n",
    "        voter_output = f'{candidate}: {vote_percentage: .3f}% ({votes})\\n'\n",
    "        print (voter_output, end='')\n",
    "        #Print each candidate vote count and % to file\n",
    "        txt_file.write(voter_output)\n",
    "    #print the winner's sumary\n",
    "    winner_summary = (\n",
    "        f'*************************************\\n'\n",
    "        f'Winner: {winning_candidate}\\n'\n",
    "        f'*************************************\\n')\n",
    "    #to terminal\n",
    "    print(winner_summary)\n",
    "    #to file\n",
    "    txt_file.write(winner_summary)\n"
   ]
  }
 ],
 "metadata": {
  "kernelspec": {
   "display_name": "Python 3 (ipykernel)",
   "language": "python",
   "name": "python3"
  },
  "language_info": {
   "codemirror_mode": {
    "name": "ipython",
    "version": 3
   },
   "file_extension": ".py",
   "mimetype": "text/x-python",
   "name": "python",
   "nbconvert_exporter": "python",
   "pygments_lexer": "ipython3",
   "version": "3.12.3"
  }
 },
 "nbformat": 4,
 "nbformat_minor": 5
}
