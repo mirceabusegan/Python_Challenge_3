import csv
import os


#Loading the csv file
csv_path = 'Resources/budget_data.csv'



#Initialize variables for the requested metrics
total_n_months = 0
total_pl = 0
pl_changes = []
average_pl_changes=0
largest_increase_profit = {}
largest_decrease_profit = {}

#open the CSV file
with open(csv_path,'r') as csvfile:
    csvreader = csv.reader(csvfile)
#iterate through every row 
    for row in csvreader:
        print (row)
        




#number of months
for row in csvreader :
    total_n_months += 1


"""total_pl = 0
pl_changes = []
average_pl_changes=0
largest_increase_profit = {}
largest_decrease_profit = {}"""



