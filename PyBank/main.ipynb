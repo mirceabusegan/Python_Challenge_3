{
 "cells": [
  {
   "cell_type": "code",
   "execution_count": 320,
   "id": "128eadee-6bd0-41be-aebf-4acbb3c55729",
   "metadata": {},
   "outputs": [],
   "source": [
    "import csv\n",
    "import os\n",
    "import statistics"
   ]
  },
  {
   "cell_type": "code",
   "execution_count": 322,
   "id": "44464a67-0ee5-4107-a92c-67223e440e18",
   "metadata": {},
   "outputs": [],
   "source": [
    "#Loading the csv file\n",
    "csv_path = 'Resources/budget_data.csv'\n",
    "txt_path = 'Analysis/Analysis.txt'\n"
   ]
  },
  {
   "cell_type": "code",
   "execution_count": 324,
   "id": "c588172b-658f-4676-9c45-ef7b59f414b6",
   "metadata": {},
   "outputs": [],
   "source": [
    "#Initialize variables for the requested metrics\n",
    "total_pl = 0\n",
    "pl_changes_list = []\n",
    "average_pl_changes=0\n",
    "previous_pl =0\n",
    "max_increase = 0\n",
    "max_decrease = 0\n",
    "pl_change = 0"
   ]
  },
  {
   "cell_type": "code",
   "execution_count": 326,
   "id": "41d37a39-197e-469b-9bd7-aa105999a12a",
   "metadata": {},
   "outputs": [],
   "source": [
    "#open the CSV file\n",
    "with open(csv_path,'r') as csvfile:\n",
    "    csvreader = csv.reader(csvfile)\n",
    "\n",
    "#Extracting the header\n",
    "    header = next(csvreader)\n",
    "\n",
    "#firs row\n",
    "    first_row = next(csvreader)\n",
    "    total_n_months = 1\n",
    "    previous_pl = int(first_row[1])\n",
    "    total_pl = previous_pl\n",
    "  \n",
    "#iterate through the dataset and calculate the metrics\n",
    "    for curent_row in csvreader :\n",
    "          total_n_months += 1\n",
    "          total_pl = total_pl + int(curent_row[1])\n",
    "        \n",
    "#calculating greatest increase in profit\n",
    "          if max_increase <= int(curent_row[1])-previous_pl :\n",
    "            max_increase = int(curent_row[1])-previous_pl\n",
    "            date_max_increase = curent_row[0]\n",
    "\n",
    "#calculating greatest decrease in profits\n",
    "          if  int(curent_row[1])-previous_pl <= max_decrease :\n",
    "            max_decrease = int(curent_row[1])-previous_pl\n",
    "            date_max_decrease = curent_row[0]\n",
    "          pl_change = int(curent_row[1])-previous_pl\n",
    "          previous_pl=int(curent_row[1])\n",
    "          pl_changes_list.append(pl_change)\n",
    "    "
   ]
  },
  {
   "cell_type": "code",
   "execution_count": 328,
   "id": "da00fc5a-d0cc-499e-9507-e52cfc8f2c3d",
   "metadata": {},
   "outputs": [
    {
     "name": "stdout",
     "output_type": "stream",
     "text": [
      "Financial Analysis\n",
      "--------------------------------------------------------------------------\n",
      "There are 86 months.\n",
      "The total Profit/Losses is: 22564198\n",
      "The average change in Profit/Loses is: -8311.105882352942\n",
      "The greatest Profit increase was  1862002 on Aug-16.\n",
      "The greatest Profit decrease was -1825558 on Feb-14.\n",
      "\n"
     ]
    }
   ],
   "source": [
    "#Print results\n",
    "results = (\n",
    "f'Financial Analysis\\n'\n",
    "f'--------------------------------------------------------------------------\\n'\n",
    "f'There are {total_n_months} months.\\n'\n",
    "f'The total Profit/Losses is: {total_pl}\\n'\n",
    "f'The average change in Profit/Loses is: {statistics.mean(pl_changes_list)}\\n'\n",
    "f'The greatest Profit increase was  {max_increase} on {date_max_increase}.\\n'\n",
    "f'The greatest Profit decrease was {max_decrease} on {date_max_decrease}.\\n')\n",
    "print(results)"
   ]
  },
  {
   "cell_type": "code",
   "execution_count": 330,
   "id": "8f65b9b9-12c2-4d09-b25a-0e92d1a8d331",
   "metadata": {},
   "outputs": [],
   "source": [
    "with open(txt_path, \"w\") as txt_file:\n",
    "    txt_file.write(results)"
   ]
  }
 ],
 "metadata": {
  "kernelspec": {
   "display_name": "Python 3 (ipykernel)",
   "language": "python",
   "name": "python3"
  },
  "language_info": {
   "codemirror_mode": {
    "name": "ipython",
    "version": 3
   },
   "file_extension": ".py",
   "mimetype": "text/x-python",
   "name": "python",
   "nbconvert_exporter": "python",
   "pygments_lexer": "ipython3",
   "version": "3.12.3"
  }
 },
 "nbformat": 4,
 "nbformat_minor": 5
}
