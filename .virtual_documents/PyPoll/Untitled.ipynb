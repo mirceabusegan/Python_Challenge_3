#Pypoll - calculating the winner of an election
import csv
import os


#Loading the files 
source_file = os.path.join('Resources', 'election_data.csv')
results_file = os.path.join('Analysis', 'analysis.txt')


#Total vote count
total_votes = 0


#Voting options
candidate_options = []
candidate_votes = {}


#Winning candidate and winning count tracker
winning_candidate = ''
winning_count = 0


#Reading the csv file and creating a list of dictionaires
with open(source_file, 'r') as source_data :
    reader = csv.reader(source_data)
    #the header
    header =next(reader)
   
    #iterate through the dataset
    for row in reader:
      #  print('. ', end='')
        total_votes += 1
        #extract candidate 
        candidate_name = row[2]
        #adding candidates that are not in the list
        if candidate_name not in candidate_options:
            candidate_options.append(candidate_name)
            candidate_votes[candidate_name]=0
        candidate_votes[candidate_name] = candidate_votes[candidate_name] + 1


# Print the results to terminal and file
with open(results_file, 'w') as txt_file:
    #the actual results
    election_results = (
        f'\nElection Results\n'
        f'--------------------------\n'
        f'Total Votes: {total_votes}\n'
        f'----------------------------\n')
    #To terminal
    print(election_results, end='')
    #To file
    txt_file.write(election_results)
    #Calculating the winner
    for candidate in candidate_votes:
        votes = candidate_votes.get(candidate)
        vote_percentage  =float(votes)/float(total_votes)*100
        #choosing the winning vote count and the candidate
        if (votes>winning_count):
            winning_count = votes
            winning_candidate = candidate
        #Print each candidate vote count and % to terminal
        voter_output = f'{candidate}: {vote_percentage: .3f}% ({votes})\n'
        print (voter_output, end='')
        #Print each candidate vote count and % to file
        txt_file.write(voter_output)
    #print the winner's sumary
    winner_summary = (
        f'*************************************\n'
        f'Winner: {winning_candidate}\n'
        f'*************************************\n')
    #to terminal
    print(winner_summary)
    #to file
    txt_file.write(winner_summary)

